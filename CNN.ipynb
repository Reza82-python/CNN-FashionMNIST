{
 "cells": [
  {
   "cell_type": "code",
   "execution_count": 2,
   "metadata": {},
   "outputs": [
    {
     "name": "stdout",
     "output_type": "stream",
     "text": [
      "(60000, 28, 28)\n",
      "Model: \"sequential_1\"\n",
      "_________________________________________________________________\n",
      " Layer (type)                Output Shape              Param #   \n",
      "=================================================================\n",
      " conv2d_3 (Conv2D)           (None, 28, 28, 64)        1664      \n",
      "                                                                 \n",
      " max_pooling2d_3 (MaxPoolin  (None, 14, 14, 64)        0         \n",
      " g2D)                                                            \n",
      "                                                                 \n",
      " conv2d_4 (Conv2D)           (None, 12, 12, 128)       73856     \n",
      "                                                                 \n",
      " max_pooling2d_4 (MaxPoolin  (None, 6, 6, 128)         0         \n",
      " g2D)                                                            \n",
      "                                                                 \n",
      " conv2d_5 (Conv2D)           (None, 4, 4, 128)         147584    \n",
      "                                                                 \n",
      " max_pooling2d_5 (MaxPoolin  (None, 2, 2, 128)         0         \n",
      " g2D)                                                            \n",
      "                                                                 \n",
      " flatten_1 (Flatten)         (None, 512)               0         \n",
      "                                                                 \n",
      " dense_3 (Dense)             (None, 128)               65664     \n",
      "                                                                 \n",
      " dense_4 (Dense)             (None, 128)               16512     \n",
      "                                                                 \n",
      " dense_5 (Dense)             (None, 10)                1290      \n",
      "                                                                 \n",
      "=================================================================\n",
      "Total params: 306570 (1.17 MB)\n",
      "Trainable params: 306570 (1.17 MB)\n",
      "Non-trainable params: 0 (0.00 Byte)\n",
      "_________________________________________________________________\n",
      "Epoch 1/10\n",
      "118/118 [==============================] - 20s 161ms/step - loss: 0.7811 - accuracy: 0.7159 - val_loss: 0.5302 - val_accuracy: 0.8046\n",
      "Epoch 2/10\n",
      "118/118 [==============================] - 18s 151ms/step - loss: 0.4423 - accuracy: 0.8393 - val_loss: 0.4068 - val_accuracy: 0.8553\n",
      "Epoch 3/10\n",
      "118/118 [==============================] - 18s 150ms/step - loss: 0.3606 - accuracy: 0.8690 - val_loss: 0.3821 - val_accuracy: 0.8629\n",
      "Epoch 4/10\n",
      "118/118 [==============================] - 18s 151ms/step - loss: 0.3243 - accuracy: 0.8812 - val_loss: 0.3333 - val_accuracy: 0.8821\n",
      "Epoch 5/10\n",
      "118/118 [==============================] - 18s 151ms/step - loss: 0.2982 - accuracy: 0.8913 - val_loss: 0.3275 - val_accuracy: 0.8835\n",
      "Epoch 6/10\n",
      "118/118 [==============================] - 18s 151ms/step - loss: 0.2769 - accuracy: 0.8991 - val_loss: 0.2908 - val_accuracy: 0.8981\n",
      "Epoch 7/10\n",
      "118/118 [==============================] - 18s 150ms/step - loss: 0.2545 - accuracy: 0.9076 - val_loss: 0.2896 - val_accuracy: 0.8929\n",
      "Epoch 8/10\n",
      "118/118 [==============================] - 18s 154ms/step - loss: 0.2439 - accuracy: 0.9098 - val_loss: 0.2901 - val_accuracy: 0.8952\n",
      "Epoch 9/10\n",
      "118/118 [==============================] - 19s 157ms/step - loss: 0.2266 - accuracy: 0.9161 - val_loss: 0.2722 - val_accuracy: 0.9051\n",
      "Epoch 10/10\n",
      "118/118 [==============================] - 18s 151ms/step - loss: 0.2177 - accuracy: 0.9205 - val_loss: 0.2600 - val_accuracy: 0.9089\n"
     ]
    },
    {
     "data": {
      "image/png": "[encoded data removed]",
      "text/plain": [
       "<Figure size 640x480 with 1 Axes>"
      ]
     },
     "metadata": {},
     "output_type": "display_data"
    }
   ],
   "source": [
    "#CNN(fashion mnist)\n",
    "import tensorflow as tf\n",
    "from tensorflow import keras\n",
    "from keras.datasets import fashion_mnist\n",
    "import matplotlib.pyplot as plt\n",
    "\n",
    "(x_train,y_train),(x_test,y_test)=fashion_mnist.load_data()\n",
    "\n",
    "import numpy as np\n",
    "\n",
    "\n",
    "x_train = x_train /255\n",
    "x_test = x_test /255\n",
    "print(x_train.shape)\n",
    "\n",
    "model=keras.Sequential()\n",
    "\n",
    "\n",
    "model.add(keras.layers.Conv2D(64,(5,5),input_shape=(28,28,1),padding='same',activation='relu'))\n",
    "model.add(keras.layers.MaxPool2D())\n",
    "model.add(keras.layers.Conv2D(128,(3,3),activation='relu'))\n",
    "model.add(keras.layers.MaxPool2D())\n",
    "model.add(keras.layers.Conv2D(128,(3,3),activation='relu'))\n",
    "model.add(keras.layers.MaxPool2D())\n",
    "model.add(keras.layers.Flatten())\n",
    "model.add(keras.layers.Dense(units=128,activation='relu'))\n",
    "model.add(keras.layers.Dense(units=128,activation='relu'))\n",
    "model.add(keras.layers.Dense(units=10,activation='softmax'))\n",
    "\n",
    "model.compile(optimizer=tf.optimizers.Adam(),loss=tf.losses.sparse_categorical_crossentropy,metrics = ['accuracy'])\n",
    "model.summary()\n",
    "\n",
    "hist1=model.fit(x_train,y_train,epochs=10,batch_size=512,validation_data=(x_test,y_test))\n",
    "\n",
    "plt.plot(hist1.history['accuracy'],color='blue')\n",
    "plt.plot(hist1.history['val_accuracy'],color='red')\n",
    "plt.show()"
   ]
  }
 ],
 "metadata": {
  "kernelspec": {
   "display_name": "Python 3",
   "language": "python",
   "name": "python3"
  },
  "language_info": {
   "codemirror_mode": {
    "name": "ipython",
    "version": 3
   },
   "file_extension": ".py",
   "mimetype": "text/x-python",
   "name": "python",
   "nbconvert_exporter": "python",
   "pygments_lexer": "ipython3",
   "version": "3.11.1"
  }
 },
 "nbformat": 4,
 "nbformat_minor": 2
}
